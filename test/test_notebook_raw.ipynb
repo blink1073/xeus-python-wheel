{
 "cells": [
  {
   "cell_type": "code",
   "execution_count": null,
   "id": "extensive-oxide",
   "metadata": {},
   "outputs": [],
   "source": [
    "from math import sqrt"
   ]
  },
  {
   "cell_type": "code",
   "execution_count": null,
   "id": "8e8328f3-5467-48ac-8584-aac5453e3461",
   "metadata": {},
   "outputs": [],
   "source": [
    "sqrt(25)"
   ]
  }
 ],
 "metadata": {
  "kernelspec": {
   "display_name": "Python 3.9 (XPython Raw)",
   "language": "python",
   "name": "xpython-raw"
  },
  "language_info": {
   "file_extension": ".py",
   "mimetype": "text/x-python",
   "name": "python",
   "version": "3.9.7"
  }
 },
 "nbformat": 4,
 "nbformat_minor": 5
}
